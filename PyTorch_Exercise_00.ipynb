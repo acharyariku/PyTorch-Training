{
  "nbformat": 4,
  "nbformat_minor": 0,
  "metadata": {
    "colab": {
      "provenance": [],
      "gpuType": "T4",
      "authorship_tag": "ABX9TyOH6zEVGq27MmrlhvnnYOpE",
      "include_colab_link": true
    },
    "kernelspec": {
      "name": "python3",
      "display_name": "Python 3"
    },
    "language_info": {
      "name": "python"
    },
    "accelerator": "GPU"
  },
  "cells": [
    {
      "cell_type": "markdown",
      "metadata": {
        "id": "view-in-github",
        "colab_type": "text"
      },
      "source": [
        "<a href=\"https://colab.research.google.com/github/acharyariku/PyTorch-Training/blob/main/PyTorch_Exercise_00.ipynb\" target=\"_parent\"><img src=\"https://colab.research.google.com/assets/colab-badge.svg\" alt=\"Open In Colab\"/></a>"
      ]
    },
    {
      "cell_type": "code",
      "execution_count": null,
      "metadata": {
        "id": "5jaLoQtzmaNG"
      },
      "outputs": [],
      "source": [
        "import torch"
      ]
    },
    {
      "cell_type": "code",
      "source": [
        "tensor = torch.rand(7,7)\n",
        "tensor"
      ],
      "metadata": {
        "colab": {
          "base_uri": "https://localhost:8080/"
        },
        "id": "UzRQZA2pmqCn",
        "outputId": "b391f1f7-ce06-43f9-a977-e605d91668b7"
      },
      "execution_count": null,
      "outputs": [
        {
          "output_type": "execute_result",
          "data": {
            "text/plain": [
              "tensor([[0.2811, 0.3587, 0.5821, 0.1174, 0.3021, 0.6328, 0.0362],\n",
              "        [0.9984, 0.5674, 0.6226, 0.1086, 0.2157, 0.3358, 0.7771],\n",
              "        [0.1686, 0.8762, 0.5631, 0.3891, 0.1337, 0.2221, 0.0459],\n",
              "        [0.8635, 0.1549, 0.6671, 0.0517, 0.4993, 0.9943, 0.1756],\n",
              "        [0.0491, 0.8783, 0.6744, 0.4772, 0.2182, 0.6521, 0.7070],\n",
              "        [0.0265, 0.5652, 0.1660, 0.4550, 0.2156, 0.8768, 0.1328],\n",
              "        [0.2290, 0.1700, 0.3528, 0.1784, 0.6719, 0.3822, 0.1720]])"
            ]
          },
          "metadata": {},
          "execution_count": 2
        }
      ]
    },
    {
      "cell_type": "code",
      "source": [
        "tensor2 = torch.rand(1,7)\n",
        "tensor2"
      ],
      "metadata": {
        "colab": {
          "base_uri": "https://localhost:8080/"
        },
        "id": "0C5WyWtOm3SA",
        "outputId": "7fa99999-2f1f-44cb-89c8-b133e1fa9f3b"
      },
      "execution_count": null,
      "outputs": [
        {
          "output_type": "execute_result",
          "data": {
            "text/plain": [
              "tensor([[0.3302, 0.3063, 0.3043, 0.3819, 0.4786, 0.6470, 0.4214]])"
            ]
          },
          "metadata": {},
          "execution_count": 3
        }
      ]
    },
    {
      "cell_type": "code",
      "source": [
        "ans = tensor @ tensor2.T\n",
        "ans, ans.shape"
      ],
      "metadata": {
        "colab": {
          "base_uri": "https://localhost:8080/"
        },
        "id": "ORZnloCQm6R7",
        "outputId": "707d916c-a4f1-47c6-fd5e-bed6422484fa"
      },
      "execution_count": null,
      "outputs": [
        {
          "output_type": "execute_result",
          "data": {
            "text/plain": [
              "(tensor([[0.9939],\n",
              "         [1.3823],\n",
              "         [0.8710],\n",
              "         [1.5115],\n",
              "         [1.4970],\n",
              "         [1.1326],\n",
              "         [0.9445]]),\n",
              " torch.Size([7, 1]))"
            ]
          },
          "metadata": {},
          "execution_count": 4
        }
      ]
    },
    {
      "cell_type": "code",
      "source": [
        "torch.manual_seed(0)\n",
        "\n",
        "tensor1 = torch.rand(7,7)\n",
        "tensor2 = torch.rand(1,7)\n",
        "\n",
        "ans = tensor1 @ tensor2.T\n",
        "ans, ans.shape"
      ],
      "metadata": {
        "colab": {
          "base_uri": "https://localhost:8080/"
        },
        "id": "0LONlMAlnF3G",
        "outputId": "8879905a-ac2c-4479-d220-3f0e6ca369fa"
      },
      "execution_count": null,
      "outputs": [
        {
          "output_type": "execute_result",
          "data": {
            "text/plain": [
              "(tensor([[1.8542],\n",
              "         [1.9611],\n",
              "         [2.2884],\n",
              "         [3.0481],\n",
              "         [1.7067],\n",
              "         [2.5290],\n",
              "         [1.7989]]),\n",
              " torch.Size([7, 1]))"
            ]
          },
          "metadata": {},
          "execution_count": 5
        }
      ]
    },
    {
      "cell_type": "code",
      "source": [
        "torch.cuda.manual_seed_all(1234)"
      ],
      "metadata": {
        "id": "8f1qIYJ_ncbD"
      },
      "execution_count": null,
      "outputs": []
    },
    {
      "cell_type": "code",
      "source": [
        "device = 'cpu'\n",
        "if torch.cuda.is_available():\n",
        "  device = 'cuda'"
      ],
      "metadata": {
        "id": "ukAdymkGodzA"
      },
      "execution_count": null,
      "outputs": []
    },
    {
      "cell_type": "code",
      "source": [
        "tensor1 = torch.rand(2,3,device=device)\n",
        "tensor2 = torch.rand(2,3,device=device)"
      ],
      "metadata": {
        "id": "qhCsVcSYo0Hk"
      },
      "execution_count": null,
      "outputs": []
    },
    {
      "cell_type": "code",
      "source": [
        "ans = tensor1 @ tensor2.T\n",
        "ans"
      ],
      "metadata": {
        "colab": {
          "base_uri": "https://localhost:8080/"
        },
        "id": "CUEEMB07pHcQ",
        "outputId": "b350aea9-1039-4931-a6da-eaa632b33010"
      },
      "execution_count": null,
      "outputs": [
        {
          "output_type": "execute_result",
          "data": {
            "text/plain": [
              "tensor([[0.6407, 0.5931],\n",
              "        [0.5043, 0.6066]], device='cuda:0')"
            ]
          },
          "metadata": {},
          "execution_count": 15
        }
      ]
    },
    {
      "cell_type": "code",
      "source": [
        "torch.max(ans),torch.min(ans)"
      ],
      "metadata": {
        "colab": {
          "base_uri": "https://localhost:8080/"
        },
        "id": "lVoAQTyTpOFb",
        "outputId": "ae327cc8-28de-443b-e9e7-76ad88fb9f40"
      },
      "execution_count": null,
      "outputs": [
        {
          "output_type": "execute_result",
          "data": {
            "text/plain": [
              "(tensor(0.6407, device='cuda:0'), tensor(0.5043, device='cuda:0'))"
            ]
          },
          "metadata": {},
          "execution_count": 17
        }
      ]
    },
    {
      "cell_type": "code",
      "source": [
        "torch.argmax(ans),torch.argmin(ans)"
      ],
      "metadata": {
        "colab": {
          "base_uri": "https://localhost:8080/"
        },
        "id": "Luv8GoX9pWML",
        "outputId": "09f07eb7-c102-4326-ec0f-e7c3806a52f1"
      },
      "execution_count": null,
      "outputs": [
        {
          "output_type": "execute_result",
          "data": {
            "text/plain": [
              "(tensor(0, device='cuda:0'), tensor(2, device='cuda:0'))"
            ]
          },
          "metadata": {},
          "execution_count": 18
        }
      ]
    },
    {
      "cell_type": "code",
      "source": [
        "torch.cuda.manual_seed_all(7)\n",
        "a = torch.rand(1,1,1,10)\n",
        "torch.cuda.manual_seed_all(7)\n",
        "b = torch.squeeze(a)\n",
        "a , a.shape, b, b.shape"
      ],
      "metadata": {
        "colab": {
          "base_uri": "https://localhost:8080/"
        },
        "id": "CQJZanp0pjmR",
        "outputId": "1495addb-c3d8-4999-ce3e-b4b2d7d10d47"
      },
      "execution_count": null,
      "outputs": [
        {
          "output_type": "execute_result",
          "data": {
            "text/plain": [
              "(tensor([[[[0.5191, 0.6159, 0.8102, 0.9801, 0.1147, 0.3168, 0.6965, 0.9143,\n",
              "            0.9351, 0.9412]]]]),\n",
              " torch.Size([1, 1, 1, 10]),\n",
              " tensor([0.5191, 0.6159, 0.8102, 0.9801, 0.1147, 0.3168, 0.6965, 0.9143, 0.9351,\n",
              "         0.9412]),\n",
              " torch.Size([10]))"
            ]
          },
          "metadata": {},
          "execution_count": 21
        }
      ]
    }
  ]
}