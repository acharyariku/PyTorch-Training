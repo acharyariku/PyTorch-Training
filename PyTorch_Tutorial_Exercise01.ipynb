{
  "nbformat": 4,
  "nbformat_minor": 0,
  "metadata": {
    "colab": {
      "provenance": [],
      "gpuType": "T4",
      "authorship_tag": "ABX9TyN6gqyyhnf345izsVqx4jzt",
      "include_colab_link": true
    },
    "kernelspec": {
      "name": "python3",
      "display_name": "Python 3"
    },
    "language_info": {
      "name": "python"
    },
    "accelerator": "GPU"
  },
  "cells": [
    {
      "cell_type": "markdown",
      "metadata": {
        "id": "view-in-github",
        "colab_type": "text"
      },
      "source": [
        "<a href=\"https://colab.research.google.com/github/acharyariku/PyTorch-Training/blob/main/PyTorch_Tutorial_Exercise01.ipynb\" target=\"_parent\"><img src=\"https://colab.research.google.com/assets/colab-badge.svg\" alt=\"Open In Colab\"/></a>"
      ]
    },
    {
      "cell_type": "code",
      "execution_count": null,
      "metadata": {
        "id": "es6pxmvYL9dZ"
      },
      "outputs": [],
      "source": [
        "import torch\n",
        "from torch import nn\n",
        "import matplotlib.pyplot as plt"
      ]
    },
    {
      "cell_type": "code",
      "source": [
        "device = 'cpu'\n",
        "if torch.cuda.is_available():\n",
        "  device = 'cuda'"
      ],
      "metadata": {
        "id": "B34-nA--WVdb"
      },
      "execution_count": null,
      "outputs": []
    },
    {
      "cell_type": "code",
      "source": [
        "weight = 0.3\n",
        "bias = 0.9\n",
        "\n",
        "X = torch.arange(0,100)\n",
        "y = weight*X + bias\n",
        "\n",
        "test_train_split = int(0.8 * len(X))\n",
        "\n",
        "X_train,y_train,X_test,y_test = X[:test_train_split],y[:test_train_split],X[test_train_split:],y[test_train_split:]\n",
        "\n",
        "X_train.to(device)\n",
        "y_train.to(device)\n",
        "X_test.to(device)\n",
        "y_test.to(device)"
      ],
      "metadata": {
        "colab": {
          "base_uri": "https://localhost:8080/"
        },
        "id": "zGhModzgNrY-",
        "outputId": "539c64e3-bc62-4f28-8769-9d7e9d5416b3"
      },
      "execution_count": null,
      "outputs": [
        {
          "output_type": "execute_result",
          "data": {
            "text/plain": [
              "tensor([24.9000, 25.2000, 25.5000, 25.8000, 26.1000, 26.4000, 26.7000, 27.0000,\n",
              "        27.3000, 27.6000, 27.9000, 28.2000, 28.5000, 28.8000, 29.1000, 29.4000,\n",
              "        29.7000, 30.0000, 30.3000, 30.6000])"
            ]
          },
          "metadata": {},
          "execution_count": 66
        }
      ]
    },
    {
      "cell_type": "code",
      "source": [
        "def plot_predictions(train_data=X_train,\n",
        "                     train_labels=y_train,\n",
        "                     test_data=X_test,\n",
        "                     test_labels=y_test,\n",
        "                     predictions=None):\n",
        "  plt.figure(figsize=(10,7))\n",
        "  plt.scatter(train_data,train_labels,c='b',s=4,label=\"Training Data\")\n",
        "  plt.scatter(test_data,test_labels,c='g',s=4,label=\"Testing Data\")\n",
        "  if predictions is not None:\n",
        "    # Plot the predictions in red (predictions were made on the test data)\n",
        "    plt.scatter(test_data, predictions, c=\"r\", s=4, label=\"Predictions\")\n",
        "  plt.legend(prop={\"size\":10})\n"
      ],
      "metadata": {
        "id": "a76eO0-UOq4k"
      },
      "execution_count": null,
      "outputs": []
    },
    {
      "cell_type": "code",
      "source": [
        "plot_predictions()"
      ],
      "metadata": {
        "colab": {
          "base_uri": "https://localhost:8080/",
          "height": 599
        },
        "id": "ofbIo--XPcHF",
        "outputId": "19167759-6c34-4116-e1fe-548314114a20"
      },
      "execution_count": null,
      "outputs": [
        {
          "output_type": "display_data",
          "data": {
            "text/plain": [
              "<Figure size 1000x700 with 1 Axes>"
            ],
            "image/png": "[encoded data removed]"
          },
          "metadata": {}
        }
      ]
    },
    {
      "cell_type": "code",
      "source": [
        "class myModel(nn.Module):\n",
        "  def __init__(self) -> None:\n",
        "    super().__init__()\n",
        "    self.weights = nn.Parameter(torch.randn(1,\n",
        "                                dtype=torch.float),\n",
        "                                requires_grad=True)\n",
        "    self.bias = nn.Parameter(torch.randn(1,\n",
        "                             dtype=torch.float),\n",
        "                             requires_grad=True)\n",
        "  def forward(self,X):\n",
        "    return self.weights * X + self.bias"
      ],
      "metadata": {
        "id": "ZUb_8eH8QfIN"
      },
      "execution_count": null,
      "outputs": []
    },
    {
      "cell_type": "code",
      "source": [
        "model = myModel()\n",
        "model.state_dict()\n",
        "model.to(device)"
      ],
      "metadata": {
        "colab": {
          "base_uri": "https://localhost:8080/"
        },
        "id": "ngHORbY6T9Od",
        "outputId": "d58e88f0-69e7-44c3-b29f-f26ee6cbd424"
      },
      "execution_count": null,
      "outputs": [
        {
          "output_type": "execute_result",
          "data": {
            "text/plain": [
              "myModel()"
            ]
          },
          "metadata": {},
          "execution_count": 71
        }
      ]
    },
    {
      "cell_type": "code",
      "source": [
        "loss = nn.L1Loss()\n",
        "optimizer = torch.optim.SGD(params=model.parameters(),lr=0.01)"
      ],
      "metadata": {
        "id": "iT88hP1pUvyl"
      },
      "execution_count": null,
      "outputs": []
    },
    {
      "cell_type": "code",
      "source": [
        "epochs = 300\n",
        "\n",
        "train_loss_values = []\n",
        "test_loss_values = []\n",
        "epoch_count = []\n",
        "\n",
        "for epoch in range(epochs):\n",
        "  model.train()\n",
        "\n",
        "  y_pred = model(X_train)\n",
        "\n",
        "  lossVal = loss(y_pred,y_train)\n",
        "\n",
        "  optimizer.zero_grad()\n",
        "\n",
        "  lossVal.backward()\n",
        "\n",
        "  optimizer.step()\n",
        "\n",
        "  model.eval()\n",
        "\n",
        "  with torch.inference_mode():\n",
        "    test_pred = model(X_test)\n",
        "\n",
        "    test_loss = loss(test_pred,y_test.type(torch.float))\n",
        "\n",
        "    if epoch%20 == 0:\n",
        "      epoch_count.append(epoch)\n",
        "      train_loss_values.append(lossVal.detach().numpy())\n",
        "      test_loss_values.append(test_loss.detach().numpy())\n",
        "      print(f\"Epoch: {epoch} | MAE Train Loss: {lossVal} | MAE Test Loss: {test_loss} \")"
      ],
      "metadata": {
        "colab": {
          "base_uri": "https://localhost:8080/"
        },
        "id": "3s5I-blxW2_s",
        "outputId": "5e8274e4-308c-4a59-8986-0b4c6daceab2"
      },
      "execution_count": null,
      "outputs": [
        {
          "output_type": "stream",
          "name": "stdout",
          "text": [
            "Epoch: 0 | MAE Train Loss: 2.066441774368286 | MAE Test Loss: 30.81156349182129 \n",
            "Epoch: 20 | MAE Train Loss: 2.063941478729248 | MAE Test Loss: 30.814062118530273 \n",
            "Epoch: 40 | MAE Train Loss: 2.0614418983459473 | MAE Test Loss: 30.81656265258789 \n",
            "Epoch: 60 | MAE Train Loss: 2.0589423179626465 | MAE Test Loss: 30.81906509399414 \n",
            "Epoch: 80 | MAE Train Loss: 2.0564422607421875 | MAE Test Loss: 30.821563720703125 \n",
            "Epoch: 100 | MAE Train Loss: 2.0539422035217285 | MAE Test Loss: 30.82406234741211 \n",
            "Epoch: 120 | MAE Train Loss: 2.0514426231384277 | MAE Test Loss: 30.82655906677246 \n",
            "Epoch: 140 | MAE Train Loss: 2.048942804336548 | MAE Test Loss: 30.829059600830078 \n",
            "Epoch: 160 | MAE Train Loss: 2.046443223953247 | MAE Test Loss: 30.831562042236328 \n",
            "Epoch: 180 | MAE Train Loss: 2.043942928314209 | MAE Test Loss: 30.834060668945312 \n",
            "Epoch: 200 | MAE Train Loss: 2.041443347930908 | MAE Test Loss: 30.836559295654297 \n",
            "Epoch: 220 | MAE Train Loss: 2.0389437675476074 | MAE Test Loss: 30.839059829711914 \n",
            "Epoch: 240 | MAE Train Loss: 2.0364437103271484 | MAE Test Loss: 30.841562271118164 \n",
            "Epoch: 260 | MAE Train Loss: 2.0339436531066895 | MAE Test Loss: 30.84406089782715 \n",
            "Epoch: 280 | MAE Train Loss: 2.0314440727233887 | MAE Test Loss: 30.846561431884766 \n"
          ]
        }
      ]
    },
    {
      "cell_type": "code",
      "source": [
        "plot_predictions(predictions=test_pred.cpu())"
      ],
      "metadata": {
        "colab": {
          "base_uri": "https://localhost:8080/",
          "height": 599
        },
        "id": "PGm-vFpIViyS",
        "outputId": "17b44ab0-d3b5-4540-a368-8dccbe46bab7"
      },
      "execution_count": null,
      "outputs": [
        {
          "output_type": "display_data",
          "data": {
            "text/plain": [
              "<Figure size 1000x700 with 1 Axes>"
            ],
            "image/png": "[encoded data removed]"
          },
          "metadata": {}
        }
      ]
    },
    {
      "cell_type": "code",
      "source": [
        "from pathlib import Path\n",
        "\n",
        "# 1. Create models directory\n",
        "MODEL_PATH = Path(\"models\")\n",
        "MODEL_PATH.mkdir(parents=True, exist_ok=True)\n",
        "\n",
        "# 2. Create model save path\n",
        "MODEL_NAME = \"01_pytorch_workflow_model_1.pth\"\n",
        "MODEL_SAVE_PATH = MODEL_PATH / MODEL_NAME\n",
        "\n",
        "# 3. Save the model state dict\n",
        "print(f\"Saving model to: {MODEL_SAVE_PATH}\")\n",
        "torch.save(obj=model.state_dict(), # only saving the state_dict() only saves the models learned parameters\n",
        "           f=MODEL_SAVE_PATH)"
      ],
      "metadata": {
        "colab": {
          "base_uri": "https://localhost:8080/"
        },
        "id": "1GVnVjigbzXj",
        "outputId": "f5ee7db7-4cd1-48dd-b071-441a623deb51"
      },
      "execution_count": null,
      "outputs": [
        {
          "output_type": "stream",
          "name": "stdout",
          "text": [
            "Saving model to: models/01_pytorch_workflow_model_1.pth\n"
          ]
        }
      ]
    },
    {
      "cell_type": "code",
      "source": [
        "loaded_model = myModel()\n",
        "\n",
        "loaded_model.load_state_dict(torch.load(MODEL_SAVE_PATH,weights_only=True))\n",
        "\n",
        "loaded_model.to(device)\n",
        "\n",
        "print(f\"Loaded model:\\n{loaded_model}\")\n",
        "print(f\"Model on device:\\n{next(loaded_model.parameters()).device}\")"
      ],
      "metadata": {
        "colab": {
          "base_uri": "https://localhost:8080/"
        },
        "id": "BRD5f6xEcCUN",
        "outputId": "adb989f6-04a0-48a7-9a41-c4e58b1840ba"
      },
      "execution_count": null,
      "outputs": [
        {
          "output_type": "stream",
          "name": "stdout",
          "text": [
            "Loaded model:\n",
            "myModel()\n",
            "Model on device:\n",
            "cpu\n"
          ]
        }
      ]
    },
    {
      "cell_type": "code",
      "source": [
        "y_pred_loaded = loaded_model(X_test)\n",
        "\n",
        "y_pred_loaded == test_pred"
      ],
      "metadata": {
        "colab": {
          "base_uri": "https://localhost:8080/"
        },
        "id": "9xUBRFiocmsl",
        "outputId": "3dec9d0b-855d-4c54-ff62-231ba6b64496"
      },
      "execution_count": null,
      "outputs": [
        {
          "output_type": "execute_result",
          "data": {
            "text/plain": [
              "tensor([True, True, True, True, True, True, True, True, True, True, True, True,\n",
              "        True, True, True, True, True, True, True, True])"
            ]
          },
          "metadata": {},
          "execution_count": 93
        }
      ]
    }
  ]
}